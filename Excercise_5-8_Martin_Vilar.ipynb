{
 "cells": [
  {
   "cell_type": "code",
   "execution_count": 20,
   "metadata": {},
   "outputs": [
    {
     "name": "stdout",
     "output_type": "stream",
     "text": [
      "2 = A\n",
      "1 = B\n",
      "7 = C\n",
      "8 = D\n"
     ]
    }
   ],
   "source": [
    "def discovernum():\n",
    "    for A in range(1,9):\n",
    "        for B in range(9):\n",
    "            for C in range(9):\n",
    "                for D in range(1,9):\n",
    "                   if 4*(1000*A + 100*B + 10*C +D) == (A + 10*B + 100*C + 1000*D):\n",
    "                    print(A ,\"= A\")\n",
    "                    print(B ,\"= B\")\n",
    "                    print(C ,\"= C\")\n",
    "                    print(D,\"= D\")\n",
    "discovernum()"
   ]
  },
  {
   "cell_type": "code",
   "execution_count": null,
   "metadata": {},
   "outputs": [],
   "source": []
  }
 ],
 "metadata": {
  "kernelspec": {
   "display_name": "Python 3",
   "language": "python",
   "name": "python3"
  },
  "language_info": {
   "codemirror_mode": {
    "name": "ipython",
    "version": 3
   },
   "file_extension": ".py",
   "mimetype": "text/x-python",
   "name": "python",
   "nbconvert_exporter": "python",
   "pygments_lexer": "ipython3",
   "version": "3.8.3"
  }
 },
 "nbformat": 4,
 "nbformat_minor": 4
}
