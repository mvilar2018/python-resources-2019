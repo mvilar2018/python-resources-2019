{
 "cells": [
  {
   "cell_type": "code",
   "execution_count": 16,
   "metadata": {},
   "outputs": [
    {
     "name": "stdout",
     "output_type": "stream",
     "text": [
      "946.1999999999999\n"
     ]
    }
   ],
   "source": [
    "p = 24.95\n",
    "\n",
    "discount = p * float(0.4)\n",
    "\n",
    "unit_p = p - discount\n",
    "\n",
    "copies = 60\n",
    "\n",
    "\n",
    "def calculate_shipment(copies):\n",
    "    total = (copies*unit_p) + 3 + (copies* 0.75)\n",
    "    print(total)\n",
    "\n",
    "calculate_shipment(copies)\n",
    "\n",
    "\n",
    "\n",
    "    "
   ]
  },
  {
   "cell_type": "code",
   "execution_count": null,
   "metadata": {},
   "outputs": [],
   "source": []
  }
 ],
 "metadata": {
  "kernelspec": {
   "display_name": "Python 3",
   "language": "python",
   "name": "python3"
  },
  "language_info": {
   "codemirror_mode": {
    "name": "ipython",
    "version": 3
   },
   "file_extension": ".py",
   "mimetype": "text/x-python",
   "name": "python",
   "nbconvert_exporter": "python",
   "pygments_lexer": "ipython3",
   "version": "3.8.3"
  }
 },
 "nbformat": 4,
 "nbformat_minor": 4
}
